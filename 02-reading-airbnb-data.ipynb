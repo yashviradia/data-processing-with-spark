{
 "cells": [
  {
   "cell_type": "code",
   "execution_count": 19,
   "id": "683e2764-c75d-4ec9-b5b4-dbf1084af285",
   "metadata": {},
   "outputs": [],
   "source": [
    "from pyspark.sql import SparkSession\n",
    "spark = SparkSession.builder\\\n",
    "    .appName(\"Read Inside Airbnb data\") \\\n",
    "    .getOrCreate()"
   ]
  },
  {
   "cell_type": "code",
   "execution_count": 23,
   "id": "c5f049b2-2f87-4867-a1d8-f6b3dfa220af",
   "metadata": {},
   "outputs": [
    {
     "name": "stderr",
     "output_type": "stream",
     "text": [
      "                                                                                "
     ]
    }
   ],
   "source": [
    "listings = spark.read.csv(\"data/listings.csv.gz\",\n",
    "                          header=True,\n",
    "                          inferSchema=True,\n",
    "                          sep=\",\",\n",
    "                          quote='\"',\n",
    "                          escape='\"',\n",
    "                          multiLine=True,\n",
    "                          mode=\"PERMISSIVE\"\n",
    "                         )"
   ]
  },
  {
   "cell_type": "code",
   "execution_count": 24,
   "id": "c0b1ccdf-2408-4105-aa96-c147db921ac9",
   "metadata": {},
   "outputs": [
    {
     "name": "stdout",
     "output_type": "stream",
     "text": [
      "StructField('id', LongType(), True)\n",
      "StructField('listing_url', StringType(), True)\n",
      "StructField('scrape_id', LongType(), True)\n",
      "StructField('last_scraped', DateType(), True)\n",
      "StructField('source', StringType(), True)\n",
      "StructField('name', StringType(), True)\n",
      "StructField('description', StringType(), True)\n",
      "StructField('neighborhood_overview', StringType(), True)\n",
      "StructField('picture_url', StringType(), True)\n",
      "StructField('host_id', IntegerType(), True)\n",
      "StructField('host_url', StringType(), True)\n",
      "StructField('host_name', StringType(), True)\n",
      "StructField('host_since', DateType(), True)\n",
      "StructField('host_location', StringType(), True)\n",
      "StructField('host_about', StringType(), True)\n",
      "StructField('host_response_time', StringType(), True)\n",
      "StructField('host_response_rate', StringType(), True)\n",
      "StructField('host_acceptance_rate', StringType(), True)\n",
      "StructField('host_is_superhost', StringType(), True)\n",
      "StructField('host_thumbnail_url', StringType(), True)\n",
      "StructField('host_picture_url', StringType(), True)\n",
      "StructField('host_neighbourhood', StringType(), True)\n",
      "StructField('host_listings_count', IntegerType(), True)\n",
      "StructField('host_total_listings_count', IntegerType(), True)\n",
      "StructField('host_verifications', StringType(), True)\n",
      "StructField('host_has_profile_pic', StringType(), True)\n",
      "StructField('host_identity_verified', StringType(), True)\n",
      "StructField('neighbourhood', StringType(), True)\n",
      "StructField('neighbourhood_cleansed', StringType(), True)\n",
      "StructField('neighbourhood_group_cleansed', StringType(), True)\n",
      "StructField('latitude', DoubleType(), True)\n",
      "StructField('longitude', DoubleType(), True)\n",
      "StructField('property_type', StringType(), True)\n",
      "StructField('room_type', StringType(), True)\n",
      "StructField('accommodates', IntegerType(), True)\n",
      "StructField('bathrooms', DoubleType(), True)\n",
      "StructField('bathrooms_text', StringType(), True)\n",
      "StructField('bedrooms', IntegerType(), True)\n",
      "StructField('beds', IntegerType(), True)\n",
      "StructField('amenities', StringType(), True)\n",
      "StructField('price', StringType(), True)\n",
      "StructField('minimum_nights', IntegerType(), True)\n",
      "StructField('maximum_nights', IntegerType(), True)\n",
      "StructField('minimum_minimum_nights', IntegerType(), True)\n",
      "StructField('maximum_minimum_nights', IntegerType(), True)\n",
      "StructField('minimum_maximum_nights', IntegerType(), True)\n",
      "StructField('maximum_maximum_nights', IntegerType(), True)\n",
      "StructField('minimum_nights_avg_ntm', DoubleType(), True)\n",
      "StructField('maximum_nights_avg_ntm', DoubleType(), True)\n",
      "StructField('calendar_updated', StringType(), True)\n",
      "StructField('has_availability', StringType(), True)\n",
      "StructField('availability_30', IntegerType(), True)\n",
      "StructField('availability_60', IntegerType(), True)\n",
      "StructField('availability_90', IntegerType(), True)\n",
      "StructField('availability_365', IntegerType(), True)\n",
      "StructField('calendar_last_scraped', DateType(), True)\n",
      "StructField('number_of_reviews', IntegerType(), True)\n",
      "StructField('number_of_reviews_ltm', IntegerType(), True)\n",
      "StructField('number_of_reviews_l30d', IntegerType(), True)\n",
      "StructField('availability_eoy', IntegerType(), True)\n",
      "StructField('number_of_reviews_ly', IntegerType(), True)\n",
      "StructField('estimated_occupancy_l365d', IntegerType(), True)\n",
      "StructField('estimated_revenue_l365d', IntegerType(), True)\n",
      "StructField('first_review', DateType(), True)\n",
      "StructField('last_review', DateType(), True)\n",
      "StructField('review_scores_rating', DoubleType(), True)\n",
      "StructField('review_scores_accuracy', DoubleType(), True)\n",
      "StructField('review_scores_cleanliness', DoubleType(), True)\n",
      "StructField('review_scores_checkin', DoubleType(), True)\n",
      "StructField('review_scores_communication', DoubleType(), True)\n",
      "StructField('review_scores_location', DoubleType(), True)\n",
      "StructField('review_scores_value', DoubleType(), True)\n",
      "StructField('license', StringType(), True)\n",
      "StructField('instant_bookable', StringType(), True)\n",
      "StructField('calculated_host_listings_count', IntegerType(), True)\n",
      "StructField('calculated_host_listings_count_entire_homes', IntegerType(), True)\n",
      "StructField('calculated_host_listings_count_private_rooms', IntegerType(), True)\n",
      "StructField('calculated_host_listings_count_shared_rooms', IntegerType(), True)\n",
      "StructField('reviews_per_month', DoubleType(), True)\n"
     ]
    }
   ],
   "source": [
    "for field in listings.schema:\n",
    "    print(field)"
   ]
  },
  {
   "cell_type": "code",
   "execution_count": 25,
   "id": "8923aa73-05c0-4cfa-aff8-de6f1fe8d9fe",
   "metadata": {},
   "outputs": [
    {
     "name": "stdout",
     "output_type": "stream",
     "text": [
      "+----------------------+\n",
      "|neighbourhood_cleansed|\n",
      "+----------------------+\n",
      "|              Lewisham|\n",
      "|              Lewisham|\n",
      "|              Lewisham|\n",
      "|              Lewisham|\n",
      "|              Lewisham|\n",
      "|              Lewisham|\n",
      "|              Lewisham|\n",
      "|              Lewisham|\n",
      "|              Lewisham|\n",
      "|                Camden|\n",
      "|               Lambeth|\n",
      "|  Richmond upon Thames|\n",
      "|            Hillingdon|\n",
      "|            Wandsworth|\n",
      "|                 Brent|\n",
      "|  Kensington and Ch...|\n",
      "|             Greenwich|\n",
      "|               Hackney|\n",
      "|               Lambeth|\n",
      "|               Hackney|\n",
      "+----------------------+\n",
      "only showing top 20 rows\n"
     ]
    }
   ],
   "source": [
    "neighbourhoods = listings.select(listings.neighbourhood_cleansed)\n",
    "neighbourhoods.show(20)"
   ]
  },
  {
   "cell_type": "code",
   "execution_count": null,
   "id": "68956c35-274d-43fb-8c54-c4555cf81c76",
   "metadata": {},
   "outputs": [],
   "source": []
  }
 ],
 "metadata": {
  "kernelspec": {
   "display_name": "Python 3 (ipykernel)",
   "language": "python",
   "name": "python3"
  },
  "language_info": {
   "codemirror_mode": {
    "name": "ipython",
    "version": 3
   },
   "file_extension": ".py",
   "mimetype": "text/x-python",
   "name": "python",
   "nbconvert_exporter": "python",
   "pygments_lexer": "ipython3",
   "version": "3.12.3"
  }
 },
 "nbformat": 4,
 "nbformat_minor": 5
}
